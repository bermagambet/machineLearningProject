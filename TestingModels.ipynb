{
 "cells": [
  {
   "cell_type": "code",
   "execution_count": 1,
   "metadata": {},
   "outputs": [
    {
     "name": "stderr",
     "output_type": "stream",
     "text": [
      "Using TensorFlow backend.\n"
     ]
    }
   ],
   "source": [
    "import tensorflow as tf\n",
    "import matplotlib.pyplot as plt\n",
    "import math\n",
    "from keras.models import Sequential\n",
    "from keras.layers import Dense, Conv2D, Dropout, Flatten, MaxPooling2D\n",
    "from keras.optimizers import Adam\n",
    "import keras.backend\n",
    "from sklearn.model_selection import train_test_split\n",
    "import numpy as np\n",
    "from keras.utils import to_categorical\n",
    "import pandas as pd\n",
    "from sklearn import preprocessing\n",
    "from sklearn.model_selection import train_test_split\n",
    "from keras.models import Sequential\n",
    "from keras.layers import Dense"
   ]
  },
  {
   "cell_type": "code",
   "execution_count": 2,
   "metadata": {},
   "outputs": [],
   "source": [
    "df_train = pd.read_csv('C:\\\\Users\\\\Bermagambet Duisek\\\\Desktop\\\\SpotifyFeatures.csv')"
   ]
  },
  {
   "cell_type": "code",
   "execution_count": 3,
   "metadata": {},
   "outputs": [
    {
     "name": "stderr",
     "output_type": "stream",
     "text": [
      "C:\\anac\\lib\\site-packages\\ipykernel_launcher.py:19: SettingWithCopyWarning: \n",
      "A value is trying to be set on a copy of a slice from a DataFrame\n",
      "\n",
      "See the caveats in the documentation: https://pandas.pydata.org/pandas-docs/stable/user_guide/indexing.html#returning-a-view-versus-a-copy\n"
     ]
    }
   ],
   "source": [
    "keys = df_train['key'].unique()\n",
    "for i in range(12):\n",
    "    df_train.loc[df_train['key'] == keys[i], 'key'] = i\n",
    "\n",
    "timeSignature = df_train['time_signature'].unique()\n",
    "for i in range(4):\n",
    "    df_train.loc[df_train['time_signature'] == timeSignature[i], 'time_signature'] = i\n",
    "\n",
    "\n",
    "mode = df_train['mode'].unique()\n",
    "for i in range(2):\n",
    "    df_train.loc[df_train['mode'] == mode[i], 'mode'] = i\n",
    "    \n",
    "genre = df_train['genre'].unique()\n",
    "for i in range(len(genre)):\n",
    "    df_train.loc[df_train['genre'] == genre[i], 'genre'] = i\n",
    "\n",
    "df_train.loc[:,'preference'] = 0\n",
    "df_train.preference[0] = 1\n",
    "middle_pop = np.average(df_train.popularity)\n",
    "middle_pop = int(middle_pop)"
   ]
  },
  {
   "cell_type": "code",
   "execution_count": 4,
   "metadata": {},
   "outputs": [],
   "source": [
    "df_train.loc[df_train['popularity'] > middle_pop, ['popularity']] = 1 #Popularity is going to be categorical feature\n",
    "df_train.loc[df_train['popularity'] == middle_pop, ['popularity']] = 1 #Middle_Pop = average popularity value\n",
    "df_train.loc[df_train['popularity'] != 1, ['popularity']] = 0 #Songs with popualrity > Middle_Pop will have 1, means that they are popular\n",
    "#The rest is not popular\n"
   ]
  },
  {
   "cell_type": "code",
   "execution_count": 5,
   "metadata": {},
   "outputs": [],
   "source": [
    "data = df_train.values #Obtaining array of our rows\n",
    "X = df_train[['genre', 'speechiness', 'loudness', 'duration_ms']] #Pick only 4 of them\n",
    "X = X.values #taking array of values"
   ]
  },
  {
   "cell_type": "code",
   "execution_count": 6,
   "metadata": {},
   "outputs": [],
   "source": [
    "Y = data[:,4] # the 4th column is Popularity\n",
    "scaler = preprocessing.MinMaxScaler()\n",
    "X_scale = scaler.fit_transform(X)"
   ]
  },
  {
   "cell_type": "code",
   "execution_count": 7,
   "metadata": {},
   "outputs": [],
   "source": [
    "X_train, X_val_and_test, Y_train, Y_val_and_test = train_test_split(X_scale, Y, test_size=0.3)\n",
    "X_val, X_test, Y_val, Y_test = train_test_split(X_val_and_test, Y_val_and_test, test_size=0.3) # Setting train, test and validation sets of data"
   ]
  },
  {
   "cell_type": "code",
   "execution_count": 8,
   "metadata": {},
   "outputs": [],
   "source": [
    "model_2 = Sequential([Dense(1000, activation='relu', \n",
    "                      input_shape=(4,)),\n",
    "                      Dense(1000, activation='relu'),    \n",
    "                      Dense(1000, activation='relu'),    Dense(1000, activation='relu'),    \n",
    "                      Dense(1, activation='sigmoid'),])"
   ]
  },
  {
   "cell_type": "code",
   "execution_count": 9,
   "metadata": {},
   "outputs": [],
   "source": [
    "model_2.compile(optimizer='sgd',  loss='mean_squared_error',  metrics=['accuracy'])"
   ]
  },
  {
   "cell_type": "code",
   "execution_count": 59,
   "metadata": {},
   "outputs": [
    {
     "name": "stdout",
     "output_type": "stream",
     "text": [
      "Train on 162907 samples, validate on 48872 samples\n",
      "Epoch 1/4\n",
      "162907/162907 [==============================] - 160s 980us/step - loss: 0.1530 - accuracy: 0.7719 - val_loss: 0.1482 - val_accuracy: 0.7857\n",
      "Epoch 2/4\n",
      "162907/162907 [==============================] - 137s 839us/step - loss: 0.1508 - accuracy: 0.7780 - val_loss: 0.1626 - val_accuracy: 0.7660\n",
      "Epoch 3/4\n",
      "162907/162907 [==============================] - 130s 799us/step - loss: 0.1484 - accuracy: 0.7848 - val_loss: 0.1445 - val_accuracy: 0.8003\n",
      "Epoch 4/4\n",
      "162907/162907 [==============================] - 135s 831us/step - loss: 0.1459 - accuracy: 0.7905 - val_loss: 0.1699 - val_accuracy: 0.7226\n"
     ]
    }
   ],
   "source": [
    "hist_2 = model_2.fit(X_train, Y_train,  batch_size=32, epochs=4, validation_data=(X_val, Y_val))"
   ]
  },
  {
   "cell_type": "code",
   "execution_count": 60,
   "metadata": {},
   "outputs": [],
   "source": [
    "testing = model_2.predict(X_test)\n",
    "\n",
    "mistakes= 0\n",
    "for i in range(0, len(Y_test)):\n",
    "    if testing[i] > 0.8:\n",
    "        if Y_test[i] != 1:\n",
    "            mistakes += 1\n",
    "    if testing[i] < 0.8:\n",
    "        if Y_test[i] != 0:\n",
    "            mistakes += 1\n",
    "accuracy = 100 - (mistakes / (len(Y_test)/100))\n",
    "\n",
    "MSE = accuracy"
   ]
  },
  {
   "cell_type": "code",
   "execution_count": 12,
   "metadata": {},
   "outputs": [],
   "source": [
    "model_3 = Sequential([Dense(1000, activation='relu', \n",
    "                      input_shape=(4,)),\n",
    "                      Dense(1000, activation='relu'),    \n",
    "                      Dense(1000, activation='relu'),    Dense(1000, activation='relu'),    \n",
    "                      Dense(1, activation='sigmoid'),])"
   ]
  },
  {
   "cell_type": "code",
   "execution_count": 13,
   "metadata": {},
   "outputs": [],
   "source": [
    "model_3.compile(optimizer='sgd',  loss='mean_absolute_error',  metrics=['accuracy'])"
   ]
  },
  {
   "cell_type": "code",
   "execution_count": 15,
   "metadata": {},
   "outputs": [
    {
     "name": "stdout",
     "output_type": "stream",
     "text": [
      "Train on 162907 samples, validate on 48872 samples\n",
      "Epoch 1/4\n",
      "162907/162907 [==============================] - 187s 1ms/step - loss: 0.4520 - accuracy: 0.5576 - val_loss: 0.4106 - val_accuracy: 0.6033\n",
      "Epoch 2/4\n",
      "162907/162907 [==============================] - 205s 1ms/step - loss: 0.3693 - accuracy: 0.6403 - val_loss: 0.3482 - val_accuracy: 0.6583\n",
      "Epoch 3/4\n",
      "162907/162907 [==============================] - 199s 1ms/step - loss: 0.3364 - accuracy: 0.6694 - val_loss: 0.3293 - val_accuracy: 0.6763\n",
      "Epoch 4/4\n",
      "162907/162907 [==============================] - 199s 1ms/step - loss: 0.3263 - accuracy: 0.6776 - val_loss: 0.3234 - val_accuracy: 0.6800\n"
     ]
    }
   ],
   "source": [
    "hist_3 = model_3.fit(X_train, Y_train,  batch_size=32, epochs=4, validation_data=(X_val, Y_val))"
   ]
  },
  {
   "cell_type": "code",
   "execution_count": 16,
   "metadata": {},
   "outputs": [],
   "source": [
    "testing = model_3.predict(X_test)\n",
    "\n",
    "mistakes= 0\n",
    "for i in range(0, len(Y_test)):\n",
    "    if testing[i] > 0.8:\n",
    "        if Y_test[i] != 1:\n",
    "            mistakes += 1\n",
    "    if testing[i] < 0.8:\n",
    "        if Y_test[i] != 0:\n",
    "            mistakes += 1\n",
    "accuracy = 100 - (mistakes / (len(Y_test)/100))\n",
    "\n",
    "MAE = accuracy"
   ]
  },
  {
   "cell_type": "code",
   "execution_count": 17,
   "metadata": {},
   "outputs": [],
   "source": [
    "model_4 = Sequential([Dense(1000, activation='relu', \n",
    "                      input_shape=(4,)),\n",
    "                      Dense(1000, activation='relu'),    \n",
    "                      Dense(1000, activation='relu'),    Dense(1000, activation='relu'),    \n",
    "                      Dense(1, activation='sigmoid'),])"
   ]
  },
  {
   "cell_type": "code",
   "execution_count": 18,
   "metadata": {},
   "outputs": [],
   "source": [
    "model_4.compile(optimizer='sgd',  loss='mean_squared_logarithmic_error',  metrics=['accuracy'])"
   ]
  },
  {
   "cell_type": "code",
   "execution_count": 19,
   "metadata": {},
   "outputs": [
    {
     "name": "stdout",
     "output_type": "stream",
     "text": [
      "Train on 162907 samples, validate on 48872 samples\n",
      "Epoch 1/4\n",
      "162907/162907 [==============================] - 179s 1ms/step - loss: 0.1165 - accuracy: 0.4747 - val_loss: 0.1138 - val_accuracy: 0.5282\n",
      "Epoch 2/4\n",
      "162907/162907 [==============================] - 128s 786us/step - loss: 0.1106 - accuracy: 0.5924 - val_loss: 0.1077 - val_accuracy: 0.6404\n",
      "Epoch 3/4\n",
      "162907/162907 [==============================] - 136s 837us/step - loss: 0.1053 - accuracy: 0.6503 - val_loss: 0.1035 - val_accuracy: 0.6561\n",
      "Epoch 4/4\n",
      "162907/162907 [==============================] - 131s 805us/step - loss: 0.1016 - accuracy: 0.6710 - val_loss: 0.1007 - val_accuracy: 0.6659\n"
     ]
    }
   ],
   "source": [
    "hist_4 = model_4.fit(X_train, Y_train,  batch_size=32, epochs=4, validation_data=(X_val, Y_val))"
   ]
  },
  {
   "cell_type": "code",
   "execution_count": 20,
   "metadata": {},
   "outputs": [],
   "source": [
    "testing = model_4.predict(X_test)\n",
    "\n",
    "mistakes= 0\n",
    "for i in range(0, len(Y_test)):\n",
    "    if testing[i] > 0.8:\n",
    "        if Y_test[i] != 1:\n",
    "            mistakes += 1\n",
    "    if testing[i] < 0.8:\n",
    "        if Y_test[i] != 0:\n",
    "            mistakes += 1\n",
    "accuracy = 100 - (mistakes / (len(Y_test)/100))\n",
    "\n",
    "MSLE = accuracy"
   ]
  },
  {
   "cell_type": "code",
   "execution_count": 21,
   "metadata": {},
   "outputs": [],
   "source": [
    "model_5 = Sequential([Dense(1000, activation='relu', \n",
    "                      input_shape=(4,)),\n",
    "                      Dense(1000, activation='relu'),    \n",
    "                      Dense(1000, activation='relu'),    Dense(1000, activation='relu'),    \n",
    "                      Dense(1, activation='sigmoid'),])"
   ]
  },
  {
   "cell_type": "code",
   "execution_count": 22,
   "metadata": {},
   "outputs": [],
   "source": [
    "model_5.compile(optimizer='sgd',  loss='squared_hinge',  metrics=['accuracy'])"
   ]
  },
  {
   "cell_type": "code",
   "execution_count": 23,
   "metadata": {},
   "outputs": [
    {
     "name": "stdout",
     "output_type": "stream",
     "text": [
      "Train on 162907 samples, validate on 48872 samples\n",
      "Epoch 1/4\n",
      "162907/162907 [==============================] - 140s 857us/step - loss: 0.9741 - accuracy: 0.4469 - val_loss: 0.9500 - val_accuracy: 0.4447\n",
      "Epoch 2/4\n",
      "162907/162907 [==============================] - 132s 811us/step - loss: 0.9203 - accuracy: 0.4665 - val_loss: 0.8917 - val_accuracy: 0.5160\n",
      "Epoch 3/4\n",
      "162907/162907 [==============================] - 145s 891us/step - loss: 0.8846 - accuracy: 0.5621 - val_loss: 0.8671 - val_accuracy: 0.5849\n",
      "Epoch 4/4\n",
      "162907/162907 [==============================] - 144s 886us/step - loss: 0.8563 - accuracy: 0.5949 - val_loss: 0.8250 - val_accuracy: 0.6645\n"
     ]
    }
   ],
   "source": [
    "hist_5 = model_5.fit(X_train, Y_train,  batch_size=32, epochs=4, validation_data=(X_val, Y_val))"
   ]
  },
  {
   "cell_type": "code",
   "execution_count": 24,
   "metadata": {},
   "outputs": [],
   "source": [
    "testing = model_5.predict(X_test)\n",
    "\n",
    "mistakes= 0\n",
    "for i in range(0, len(Y_test)):\n",
    "    if testing[i] > 0.8:\n",
    "        if Y_test[i] != 1:\n",
    "            mistakes += 1\n",
    "    if testing[i] < 0.8:\n",
    "        if Y_test[i] != 0:\n",
    "            mistakes += 1\n",
    "accuracy = 100 - (mistakes / (len(Y_test)/100))\n",
    "\n",
    "SHinge = accuracy"
   ]
  },
  {
   "cell_type": "code",
   "execution_count": 25,
   "metadata": {},
   "outputs": [],
   "source": [
    "model_6 = Sequential([Dense(1000, activation='relu', \n",
    "                      input_shape=(4,)),\n",
    "                      Dense(1000, activation='relu'),    \n",
    "                      Dense(1000, activation='relu'),    Dense(1000, activation='relu'),    \n",
    "                      Dense(1, activation='sigmoid'),])"
   ]
  },
  {
   "cell_type": "code",
   "execution_count": 26,
   "metadata": {},
   "outputs": [],
   "source": [
    "model_6.compile(optimizer='sgd',  loss='hinge',  metrics=['accuracy'])"
   ]
  },
  {
   "cell_type": "code",
   "execution_count": 27,
   "metadata": {},
   "outputs": [
    {
     "name": "stdout",
     "output_type": "stream",
     "text": [
      "Train on 162907 samples, validate on 48872 samples\n",
      "Epoch 1/4\n",
      "162907/162907 [==============================] - 143s 880us/step - loss: 0.9001 - accuracy: 0.5557 - val_loss: 0.8596 - val_accuracy: 0.5971\n",
      "Epoch 2/4\n",
      "162907/162907 [==============================] - 152s 931us/step - loss: 0.8174 - accuracy: 0.6404 - val_loss: 0.7930 - val_accuracy: 0.6573\n",
      "Epoch 3/4\n",
      "162907/162907 [==============================] - 150s 918us/step - loss: 0.7833 - accuracy: 0.6696 - val_loss: 0.7728 - val_accuracy: 0.6767\n",
      "Epoch 4/4\n",
      "162907/162907 [==============================] - 152s 931us/step - loss: 0.7732 - accuracy: 0.6775 - val_loss: 0.7686 - val_accuracy: 0.6789\n"
     ]
    }
   ],
   "source": [
    "hist_6 = model_6.fit(X_train, Y_train,  batch_size=32, epochs=4, validation_data=(X_val, Y_val))"
   ]
  },
  {
   "cell_type": "code",
   "execution_count": 28,
   "metadata": {},
   "outputs": [],
   "source": [
    "testing = model_6.predict(X_test)\n",
    "\n",
    "mistakes= 0\n",
    "for i in range(0, len(Y_test)):\n",
    "    if testing[i] > 0.8:\n",
    "        if Y_test[i] != 1:\n",
    "            mistakes += 1\n",
    "    if testing[i] < 0.8:\n",
    "        if Y_test[i] != 0:\n",
    "            mistakes += 1\n",
    "accuracy = 100 - (mistakes / (len(Y_test)/100))\n",
    "\n",
    "Hinge = accuracy"
   ]
  },
  {
   "cell_type": "code",
   "execution_count": 29,
   "metadata": {},
   "outputs": [],
   "source": [
    "model_8 = Sequential([Dense(1000, activation='relu', \n",
    "                      input_shape=(4,)),\n",
    "                      Dense(1000, activation='relu'),    \n",
    "                      Dense(1000, activation='relu'),    Dense(1000, activation='relu'),    \n",
    "                      Dense(1, activation='sigmoid'),])"
   ]
  },
  {
   "cell_type": "code",
   "execution_count": 30,
   "metadata": {},
   "outputs": [],
   "source": [
    "model_8.compile(optimizer='sgd',  loss='categorical_hinge',  metrics=['accuracy'])"
   ]
  },
  {
   "cell_type": "code",
   "execution_count": 31,
   "metadata": {},
   "outputs": [
    {
     "name": "stdout",
     "output_type": "stream",
     "text": [
      "Train on 162907 samples, validate on 48872 samples\n",
      "Epoch 1/4\n",
      "162907/162907 [==============================] - 147s 905us/step - loss: 0.8913 - accuracy: 0.5699 - val_loss: 0.8295 - val_accuracy: 0.6338\n",
      "Epoch 2/4\n",
      "162907/162907 [==============================] - 143s 879us/step - loss: 0.8086 - accuracy: 0.6446 - val_loss: 0.7924 - val_accuracy: 0.6557\n",
      "Epoch 3/4\n",
      "162907/162907 [==============================] - 154s 944us/step - loss: 0.7813 - accuracy: 0.6715 - val_loss: 0.7728 - val_accuracy: 0.6759\n",
      "Epoch 4/4\n",
      "162907/162907 [==============================] - 155s 951us/step - loss: 0.7727 - accuracy: 0.6781 - val_loss: 0.7711 - val_accuracy: 0.6766\n"
     ]
    }
   ],
   "source": [
    "hist_8 = model_8.fit(X_train, Y_train,  batch_size=32, epochs=4, validation_data=(X_val, Y_val))"
   ]
  },
  {
   "cell_type": "code",
   "execution_count": 32,
   "metadata": {},
   "outputs": [],
   "source": [
    "testing = model_8.predict(X_test)\n",
    "\n",
    "mistakes= 0\n",
    "for i in range(0, len(Y_test)):\n",
    "    if testing[i] > 0.8:\n",
    "        if Y_test[i] != 1:\n",
    "            mistakes += 1\n",
    "    if testing[i] < 0.8:\n",
    "        if Y_test[i] != 0:\n",
    "            mistakes += 1\n",
    "accuracy = 100 - (mistakes / (len(Y_test)/100))\n",
    "\n",
    "CHinge = accuracy"
   ]
  },
  {
   "cell_type": "code",
   "execution_count": 33,
   "metadata": {},
   "outputs": [],
   "source": [
    "model_9 = Sequential([Dense(1000, activation='relu', \n",
    "                      input_shape=(4,)),\n",
    "                      Dense(1000, activation='relu'),    \n",
    "                      Dense(1000, activation='relu'),    Dense(1000, activation='relu'),    \n",
    "                      Dense(1, activation='sigmoid'),])"
   ]
  },
  {
   "cell_type": "code",
   "execution_count": 34,
   "metadata": {},
   "outputs": [],
   "source": [
    "model_9.compile(optimizer='sgd',  loss='logcosh',  metrics=['accuracy'])"
   ]
  },
  {
   "cell_type": "code",
   "execution_count": 35,
   "metadata": {},
   "outputs": [
    {
     "name": "stdout",
     "output_type": "stream",
     "text": [
      "Train on 162907 samples, validate on 48872 samples\n",
      "Epoch 1/4\n",
      "162907/162907 [==============================] - 140s 857us/step - loss: 0.1161 - accuracy: 0.5718 - val_loss: 0.1131 - val_accuracy: 0.6171\n",
      "Epoch 2/4\n",
      "162907/162907 [==============================] - 152s 930us/step - loss: 0.1097 - accuracy: 0.6341 - val_loss: 0.1066 - val_accuracy: 0.6408\n",
      "Epoch 3/4\n",
      "162907/162907 [==============================] - 149s 913us/step - loss: 0.1043 - accuracy: 0.6477 - val_loss: 0.1023 - val_accuracy: 0.6575\n",
      "Epoch 4/4\n",
      "162907/162907 [==============================] - 146s 898us/step - loss: 0.1006 - accuracy: 0.6672 - val_loss: 0.0993 - val_accuracy: 0.6729\n"
     ]
    }
   ],
   "source": [
    "hist_9 = model_9.fit(X_train, Y_train,  batch_size=32, epochs=4, validation_data=(X_val, Y_val))"
   ]
  },
  {
   "cell_type": "code",
   "execution_count": 36,
   "metadata": {},
   "outputs": [],
   "source": [
    "testing = model_9.predict(X_test)\n",
    "\n",
    "mistakes= 0\n",
    "for i in range(0, len(Y_test)):\n",
    "    if testing[i] > 0.8:\n",
    "        if Y_test[i] != 1:\n",
    "            mistakes += 1\n",
    "    if testing[i] < 0.8:\n",
    "        if Y_test[i] != 0:\n",
    "            mistakes += 1\n",
    "accuracy = 100 - (mistakes / (len(Y_test)/100))\n",
    "\n",
    "Logcosh = accuracy"
   ]
  },
  {
   "cell_type": "code",
   "execution_count": 61,
   "metadata": {},
   "outputs": [
    {
     "name": "stdout",
     "output_type": "stream",
     "text": [
      "Error function: MSE; Accuracy: 77.68547694070467\n",
      "Error function: MAE; Accuracy: 67.99388904802827\n",
      "Error function: MSLE; Accuracy: 44.67201374964194\n",
      "Error function: SHinge; Accuracy: 53.298959228492315\n",
      "Error function: Hinge; Accuracy: 67.81247016136733\n",
      "Error function: CHinge; Accuracy: 67.1154397020911\n",
      "Error function: Logcosh; Accuracy: 44.67201374964194\n"
     ]
    }
   ],
   "source": [
    "names = [\"MSE\", \"MAE\", \"MSLE\", \"SHinge\", \"Hinge\", \"CHinge\", \"Logcosh\"]\n",
    "values =[MSE, MAE, MSLE, SHinge, Hinge, CHinge, Logcosh]\n",
    "\n",
    "\n",
    "for i in range(0, len(names)):\n",
    "    print(\"Error function: \"+ names[i] +\"; Accuracy: \" + str(values[i]))"
   ]
  },
  {
   "cell_type": "markdown",
   "metadata": {},
   "source": [
    "We have test every possible loss function from Keras. As we can see from the list, MSE gives us the best accuracy so far. Also, we have decided to apply SGD since we have only 4 features, and it does show decent results, on the same level with adaptive optimizers."
   ]
  }
 ],
 "metadata": {
  "kernelspec": {
   "display_name": "Python 3",
   "language": "python",
   "name": "python3"
  },
  "language_info": {
   "codemirror_mode": {
    "name": "ipython",
    "version": 3
   },
   "file_extension": ".py",
   "mimetype": "text/x-python",
   "name": "python",
   "nbconvert_exporter": "python",
   "pygments_lexer": "ipython3",
   "version": "3.7.3"
  }
 },
 "nbformat": 4,
 "nbformat_minor": 2
}
